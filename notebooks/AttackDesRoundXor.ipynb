{
 "cells": [
  {
   "cell_type": "markdown",
   "metadata": {},
   "source": [
    "# LRA and CPA on DES round XOR (per S-box)\n",
    "\n",
    "This file is part of pysca toolbox, license is GPLv3, see https://www.gnu.org/licenses/gpl-3.0.en.html\n",
    "\n",
    "Author: Ilya Kizhvatov\n",
    "\n",
    "Version: 1.0, 2017-05-14\n",
    "\n",
    "The code should be self-explanatory.\n",
    "\n",
    "The attack uses conditional averaging for performance. Note how for DES this requires splitting the intermediate variable computation into two parts: part for averaging and part for the final intermediate value compuation."
   ]
  },
  {
   "cell_type": "markdown",
   "metadata": {},
   "source": [
    "## 1. Configure the environment"
   ]
  },
  {
   "cell_type": "code",
   "execution_count": null,
   "metadata": {
    "collapsed": true
   },
   "outputs": [],
   "source": [
    "# we will be plotting figures right here and not in a separate window\n",
    "%matplotlib inline \n",
    "\n",
    "# generic python stuff\n",
    "import matplotlib\n",
    "import matplotlib.pyplot as plt\n",
    "import numpy as np # make sure you use numpy-MKL build for adequate performance!\n",
    "import struct\n",
    "import time\n",
    "\n",
    "# configure figure size\n",
    "matplotlib.rcParams['figure.figsize'] = (15.0, 10.0)\n",
    "\n",
    "# local packages\n",
    "from desutils import *     # my DES utilities\n",
    "from lracpa import *       # my LRA-CPA toolbox\n",
    "from condaverdes import *  # incremental conditional averaging"
   ]
  },
  {
   "cell_type": "code",
   "execution_count": null,
   "metadata": {
    "collapsed": true
   },
   "outputs": [],
   "source": [
    "# lauch sideby console for manual insight into results\n",
    "%qtconsole"
   ]
  },
  {
   "cell_type": "markdown",
   "metadata": {},
   "source": [
    "## 2. Attack settings"
   ]
  },
  {
   "cell_type": "code",
   "execution_count": null,
   "metadata": {
    "collapsed": true
   },
   "outputs": [],
   "source": [
    "## Traceset, number of traces, and S-box to attack\n",
    "tracesetFilename = \"traces/hwdes_card8_power.npz\"\n",
    "sampleRange      = (0, 50) # range of smaples to attack\n",
    "N                = 10000 # number of traces to attack (not more that nthe file has)\n",
    "offset           = 0     # trace number to start from\n",
    "evolutionStep    = 500   # step for intermediate reports\n",
    "SboxNum          = 1     # S-box to attack, counting from 0\n",
    "\n",
    "## Leakage model\n",
    "## (these parameters correspond to function names in lracpa module)\n",
    "averagingFunction    = roundXOR_valueForAveraging # for CPA and LRA\n",
    "intermediateFunction = roundXOR_targetVariable    # for CPA and LRA\n",
    "leakageFunction      = leakageModelHW             # for CPA\n",
    "basisFunctionsModel  = basisModelSingleBits       # for LRA\n",
    "\n",
    "## Known key for ranking\n",
    "knownKey = 0x8A7400A03230DA28 # the correct key\n",
    "encrypt = True"
   ]
  },
  {
   "cell_type": "code",
   "execution_count": null,
   "metadata": {
    "collapsed": true
   },
   "outputs": [],
   "source": [
    "# get the known round key\n",
    "roundKeyNum = 1\n",
    "if (encrypt == False):\n",
    "    roundKeyNum = 16\n",
    "roundKey = computeRoundKeys(knownKey, roundKeyNum)[roundKeyNum-1]\n",
    "knownKeyChunk = roundKeyChunk(roundKey, SboxNum)\n",
    "print \"Known round key: \" + format(roundKey, '#014x'),\n",
    "print '[',\n",
    "for i in range(8):\n",
    "    print format(roundKeyChunk(roundKey, i), '#04x'),\n",
    "print ']'"
   ]
  },
  {
   "cell_type": "markdown",
   "metadata": {},
   "source": [
    "## 3. Load samples and data"
   ]
  },
  {
   "cell_type": "code",
   "execution_count": null,
   "metadata": {
    "collapsed": true
   },
   "outputs": [],
   "source": [
    "# Readout\n",
    "print \"Loading \" + tracesetFilename\n",
    "t0 = time.clock()\n",
    "npzfile = np.load(tracesetFilename)\n",
    "data = npzfile['data'][0:N]\n",
    "traces = npzfile['traces'][0:N,sampleRange[0]:sampleRange[1]]\n",
    "t1 = time.clock()\n",
    "timeLoad = t1 - t0\n",
    "\n",
    "# convert data byte arrays to integers (more convenient for DES)\n",
    "datanew = []\n",
    "for i in range(0, len(data)):\n",
    "    datanew.append(struct.unpack('!Q', data[i][0:8].tostring())[0])\n",
    "data = datanew # old data will be garbage-collected\n",
    "\n",
    "# Log traceset parameters\n",
    "(numTraces, traceLength) = traces.shape\n",
    "print \"Number of traces loaded :\", numTraces\n",
    "print \"Trace length            :\", traceLength\n",
    "print \"Loading time            : %0.2f s\" % timeLoad"
   ]
  },
  {
   "cell_type": "markdown",
   "metadata": {},
   "source": [
    "## 4. Attack with a fixed number of traces"
   ]
  },
  {
   "cell_type": "code",
   "execution_count": null,
   "metadata": {
    "collapsed": true
   },
   "outputs": [],
   "source": [
    "# perform conditional averaging\n",
    "CondAver = ConditionalAveragerDes(1024, traceLength)\n",
    "for i in range(N):\n",
    "    CondAver.addTrace(data[i], traces[i], averagingFunction, SboxNum)\n",
    "(avdata, avtraces) = CondAver.getSnapshot()\n",
    "\n",
    "# CPA\n",
    "CorrTraces = cpaDES(avdata, avtraces, intermediateFunction, SboxNum, leakageFunction)\n",
    "\n",
    "# LRA\n",
    "R2, coefs = lraDES(avdata, avtraces, intermediateFunction, SboxNum, basisFunctionsModel)\n",
    "\n",
    "### visualize results\n",
    "\n",
    "fig = plt.figure()\n",
    "\n",
    "# allocate grid\n",
    "axCPA = plt.subplot2grid((3, 1), (0, 0))\n",
    "axLRA = plt.subplot2grid((3, 1), (1, 0))\n",
    "axLRAcoefs = plt.subplot2grid((3, 1), (2, 0))\n",
    "\n",
    "# CPA\n",
    "axCPA.plot(CorrTraces.T, color = 'grey')\n",
    "axCPA.plot(CorrTraces[knownKeyChunk, :], 'r')\n",
    "axCPA.set_xlim([0, traceLength])\n",
    "\n",
    "# LRA\n",
    "axLRA.plot(R2.T, color = 'grey')\n",
    "axLRA.plot(R2[knownKeyChunk, :], 'r')\n",
    "axLRA.set_xlim([0, traceLength])\n",
    "\n",
    "# LRA coefs\n",
    "coefsKnownKey = np.array(coefs[knownKeyChunk])\n",
    "axLRAcoefs.pcolormesh(coefsKnownKey[:,:-1].T, cmap=\"jet\")\n",
    "axLRAcoefs.set_xlim([0, traceLength])\n",
    "\n",
    "# labels\n",
    "fig.suptitle(\"CPA and LRA on %d traces\" % N)\n",
    "axCPA.set_ylabel('Correlation')\n",
    "axLRA.set_ylabel('R2')\n",
    "axLRAcoefs.set_ylabel('Basis function (bit)')\n",
    "axLRAcoefs.set_xlabel('Time sample')\n",
    "\n",
    "plt.show()"
   ]
  },
  {
   "cell_type": "markdown",
   "metadata": {},
   "source": [
    "## 5. Attack with evolving number of traces"
   ]
  },
  {
   "cell_type": "code",
   "execution_count": null,
   "metadata": {
    "collapsed": true
   },
   "outputs": [],
   "source": [
    "t0 = time.clock()\n",
    "\n",
    "# initialize the incremental averager\n",
    "CondAver = ConditionalAveragerDes(1024, traceLength)\n",
    "\n",
    "# allocate arrays for storing key rank evolution\n",
    "numSteps = int(np.ceil(N / np.double(evolutionStep)))\n",
    "keyRankEvolutionCPA = np.zeros(numSteps)\n",
    "keyRankEvolutionLRA = np.zeros(numSteps)\n",
    "\n",
    "# the incremental loop\n",
    "tracesToSkip = 20 # warm-up to avoid numerical problems for small evolution step\n",
    "for i in range (0, tracesToSkip - 1):\n",
    "    CondAver.addTrace(data[i], traces[i], averagingFunction, SboxNum)\n",
    "for i in range(tracesToSkip - 1, N):\n",
    "    CondAver.addTrace(data[i], traces[i], averagingFunction, SboxNum)\n",
    "\n",
    "    if (((i + 1) % evolutionStep == 0) or ((i + 1) == N)):\n",
    "\n",
    "        (avdata, avtraces) = CondAver.getSnapshot()\n",
    "        \n",
    "        CorrTraces = cpaDES(avdata, avtraces, intermediateFunction, SboxNum, leakageFunction)\n",
    "        R2, coefs = lraDES(avdata, avtraces, intermediateFunction, SboxNum, basisFunctionsModel)\n",
    "        #R2 = normalizeR2Traces(R2)\n",
    "\n",
    "        print \"---\\nResults after %d traces\" % (i + 1)\n",
    "        print \"CPA\"\n",
    "        CorrPeaks = np.max(np.abs(CorrTraces), axis=1) # global maximization, absolute value!\n",
    "        CpaWinningCandidate = np.argmax(CorrPeaks)\n",
    "        CpaWinningCandidatePeak = np.max(CorrPeaks)\n",
    "        CpaCorrectCandidateRank = np.count_nonzero(CorrPeaks >= CorrPeaks[knownKeyChunk])\n",
    "        CpaCorrectCandidatePeak = CorrPeaks[knownKeyChunk]\n",
    "        print \"Winning candidate: 0x%02x, peak magnitude %f\" % (CpaWinningCandidate, CpaWinningCandidatePeak)\n",
    "        print \"Correct candidate: 0x%02x, peak magnitude %f, rank %d\" % (knownKeyChunk, CpaCorrectCandidatePeak, CpaCorrectCandidateRank)\n",
    "\n",
    "        print \"LRA\"\n",
    "        R2Peaks = np.max(R2, axis=1) # global maximization\n",
    "        LraWinningCandidate = np.argmax(R2Peaks)\n",
    "        LraWinningCandidatePeak = np.max(R2Peaks)\n",
    "        LraCorrectCandidateRank = np.count_nonzero(R2Peaks >= R2Peaks[knownKeyChunk])\n",
    "        LraCorrectCandidatePeak = R2Peaks[knownKeyChunk]\n",
    "        print \"Winning candidate: 0x%02x, peak magnitude %f\" % (LraWinningCandidate, LraWinningCandidatePeak)\n",
    "        print \"Correct candidate: 0x%02x, peak magnitude %f, rank %d\" % (knownKeyChunk, LraCorrectCandidatePeak, LraCorrectCandidateRank)\n",
    "\n",
    "        stepCount = int(np.floor(i / np.double(evolutionStep)))\n",
    "        keyRankEvolutionCPA[stepCount] = CpaCorrectCandidateRank\n",
    "        keyRankEvolutionLRA[stepCount] = LraCorrectCandidateRank\n",
    "\n",
    "t1 = time.clock()\n",
    "timeAll = t1 - t0\n",
    "\n",
    "print \"---\\nCumulative timing\"\n",
    "print \"%0.2f s\" % timeAll"
   ]
  },
  {
   "cell_type": "code",
   "execution_count": null,
   "metadata": {
    "collapsed": true
   },
   "outputs": [],
   "source": [
    "# save the rank evolution for later processing\n",
    "np.savez(\"results/keyRankEvolutionSbox%02d\" % SboxNum, kreCPA=keyRankEvolutionCPA, kreLRA=keyRankEvolutionLRA, step=evolutionStep)"
   ]
  },
  {
   "cell_type": "markdown",
   "metadata": {},
   "source": [
    "## 7. Visualize results"
   ]
  },
  {
   "cell_type": "code",
   "execution_count": null,
   "metadata": {
    "collapsed": true
   },
   "outputs": [],
   "source": [
    "fig = plt.figure()\n",
    "\n",
    "# allocate grid\n",
    "axCPA = plt.subplot2grid((3, 2), (0, 0))\n",
    "axLRA = plt.subplot2grid((3, 2), (1, 0))\n",
    "axLRAcoefs = plt.subplot2grid((3, 2), (2, 0))\n",
    "axRankEvolution = plt.subplot2grid((2, 2), (0, 1), rowspan = 3)\n",
    "\n",
    "# compute trace nubmers for x axis (TODO: move into block 3)\n",
    "traceNumbers = np.arange(evolutionStep, N + 1, evolutionStep)\n",
    "\n",
    "# CPA\n",
    "axCPA.plot(CorrTraces.T, color = 'grey')\n",
    "if CpaWinningCandidate != knownKeyChunk:\n",
    "    axCPA.plot(CorrTraces[CpaWinningCandidate, :], 'blue')\n",
    "axCPA.plot(CorrTraces[knownKeyChunk, :], 'r')\n",
    "axRankEvolution.plot(traceNumbers, keyRankEvolutionCPA, color = 'green')\n",
    "axCPA.set_xlim([0, traceLength])\n",
    "\n",
    "# LRA\n",
    "axLRA.plot(R2.T, color = 'grey')\n",
    "if LraWinningCandidate != knownKeyChunk:\n",
    "    axLRA.plot(R2[LraWinningCandidate, :], 'blue')\n",
    "axLRA.plot(R2[knownKeyChunk, :], 'r')\n",
    "axRankEvolution.plot(traceNumbers, keyRankEvolutionLRA, color = 'magenta')\n",
    "axLRA.set_xlim([0, traceLength])\n",
    "\n",
    "# LRA coefs\n",
    "coefsKnownKey = np.array(coefs[knownKeyChunk])\n",
    "axLRAcoefs.pcolormesh(coefsKnownKey[:,:-1].T, cmap=\"jet\")\n",
    "axLRAcoefs.set_xlim([0, traceLength])\n",
    "\n",
    "# labels\n",
    "fig.suptitle(\"CPA and LRA on %d traces\" % N)\n",
    "axCPA.set_ylabel('Correlation')\n",
    "axLRA.set_ylabel('R2')\n",
    "axLRAcoefs.set_ylabel('Basis function (bit)')\n",
    "axLRAcoefs.set_xlabel('Time sample')\n",
    "axRankEvolution.set_ylabel('Correct key candidate rank')\n",
    "axRankEvolution.set_xlabel('Number of traces')\n",
    "axRankEvolution.set_title('Correct key rank evolution (global maximisation)')\n",
    "\n",
    "# Limits and tick labels for key rand evolution plot\n",
    "axRankEvolution.set_xlim([traceNumbers[int(np.ceil(tracesToSkip / np.double(evolutionStep))) - 1], N])\n",
    "axRankEvolution.set_ylim([0, 64])\n",
    "axRankEvolution.grid(b=True, which='both', color='0.65',linestyle='-')\n",
    "#axRankEvolution.ticklabel_format(style='sci', axis='x', scilimits=(0,0), useOffset=True)\n",
    "\n",
    "# Legend for rank evolution plot\n",
    "axRankEvolution.legend(['CPA', 'LRA'], loc='upper right')\n",
    "\n",
    "plt.show()"
   ]
  }
 ],
 "metadata": {
  "kernelspec": {
   "display_name": "Python 2",
   "language": "python",
   "name": "python2"
  },
  "language_info": {
   "codemirror_mode": {
    "name": "ipython",
    "version": 2
   },
   "file_extension": ".py",
   "mimetype": "text/x-python",
   "name": "python",
   "nbconvert_exporter": "python",
   "pygments_lexer": "ipython2",
   "version": "2.7.13"
  }
 },
 "nbformat": 4,
 "nbformat_minor": 1
}
