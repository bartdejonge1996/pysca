{
 "cells": [
  {
   "cell_type": "markdown",
   "metadata": {},
   "source": [
    "# CPA and LRA on the AES S-box"
   ]
  },
  {
   "cell_type": "markdown",
   "metadata": {},
   "source": [
    "This file is part of pysca toolbox, license is GPLv3, see https://www.gnu.org/licenses/gpl-3.0.en.html\n",
    "\n",
    "Author: Ilya Kizhvatov\n",
    "\n",
    "Version: 1.0, 2017-05-14\n",
    "\n",
    "The code should be self-explanatory (especially if you look into lracpa.py module).\n",
    "\n",
    "In the plots:\n",
    "- red trace is for known correct candidate\n",
    "- blue trace is for the winning candidate (e.g. the one with maximum peak)\n",
    "- grey traces are for all other candidates"
   ]
  },
  {
   "cell_type": "markdown",
   "metadata": {},
   "source": [
    "## 1. Configure the environment"
   ]
  },
  {
   "cell_type": "code",
   "execution_count": null,
   "metadata": {
    "collapsed": true
   },
   "outputs": [],
   "source": [
    "# we will be plotting figures right here and not in a separate window\n",
    "%matplotlib inline \n",
    "\n",
    "# generic python stuff\n",
    "import matplotlib\n",
    "import matplotlib.pyplot as plt\n",
    "import numpy as np # make sure you use numpy-MKL build for adequate performance!\n",
    "import time\n",
    "\n",
    "# configure figure size\n",
    "matplotlib.rcParams['figure.figsize'] = (15.0, 10.0)\n",
    "\n",
    "# local packages\n",
    "from aes import AES       # interweb's SlowAES toolbox\n",
    "from lracpa import *      # my LRA-CPA toolbox\n",
    "from condaveraes import * # incremental conditional averaging"
   ]
  },
  {
   "cell_type": "code",
   "execution_count": null,
   "metadata": {
    "collapsed": true
   },
   "outputs": [],
   "source": [
    "# launch sideby console for manual insight into results\n",
    "%qtconsole"
   ]
  },
  {
   "cell_type": "markdown",
   "metadata": {},
   "source": [
    "## 2. Attack settings"
   ]
  },
  {
   "cell_type": "code",
   "execution_count": null,
   "metadata": {
    "collapsed": true
   },
   "outputs": [],
   "source": [
    "## Traceset, number of traces, and S-box to attack\n",
    "tracesetFilename = \"traces/swaes_atmega_power.npz\"\n",
    "sampleRange      = (900, 1200) # range of samples to attack, in the format (low, high)\n",
    "N                = 100         # number of traces to attack (less or equal to the amount of traces in the file)\n",
    "offset           = 0           # trace number to start from\n",
    "evolutionStep    = 10          # step for intermediate reports\n",
    "SboxNum          = 2           # S-box to attack, counting from 0\n",
    "\n",
    "## Leakage model\n",
    "## (these parameters correspond to function names in lracpa module)\n",
    "intermediateFunction = sBoxOut                  # for CPA and LRA\n",
    "leakageFunction      = leakageModelHW           # for CPA\n",
    "basisFunctionsModel  = basisModelSingleBits     # for LRA\n",
    "\n",
    "## Known key for ranking\n",
    "knownKeyStr = \"2B7E151628AED2A6ABF7158809CF4F3C\".decode(\"hex\") # the correct key\n",
    "encrypt = True # to avoid selective commenting in the following lines below "
   ]
  },
  {
   "cell_type": "code",
   "execution_count": null,
   "metadata": {
    "collapsed": true
   },
   "outputs": [],
   "source": [
    "# get the round key\n",
    "if encrypt: # for encryption, the first round key is as is\n",
    "    knownKey = np.array(map(ord, knownKeyStr), dtype=\"uint8\")\n",
    "else:       # for decryption, need to run key expansion \n",
    "    expandedKnownKey = AES().expandKey(map(ord, knownKeyStr), 16, 16 * 11) # this returs a list\n",
    "    knownKey = np.array(expandedKnownKey[176-16:177], dtype=\"uint8\")\n",
    "print \"Known roundkey : 0x%s\" % str(bytearray(knownKey)).encode(\"hex\")"
   ]
  },
  {
   "cell_type": "markdown",
   "metadata": {},
   "source": [
    "## 3. Load samples and data"
   ]
  },
  {
   "cell_type": "code",
   "execution_count": null,
   "metadata": {
    "collapsed": true
   },
   "outputs": [],
   "source": [
    "# Readout\n",
    "print \"Loading \" + tracesetFilename\n",
    "t0 = time.clock()\n",
    "npzfile = np.load(tracesetFilename)\n",
    "data = npzfile['data'][offset:offset + N,SboxNum] # selecting only the required byte\n",
    "traces = npzfile['traces'][offset:offset + N,sampleRange[0]:sampleRange[1]]\n",
    "t1 = time.clock()\n",
    "timeLoad = t1 - t0\n",
    "\n",
    "# Log traceset parameters\n",
    "(numTraces, traceLength) = traces.shape\n",
    "print \"Number of traces loaded :\", numTraces\n",
    "print \"Trace length            :\", traceLength\n",
    "print \"Loading time            : %0.2f s\" % timeLoad"
   ]
  },
  {
   "cell_type": "code",
   "execution_count": null,
   "metadata": {
    "collapsed": true
   },
   "outputs": [],
   "source": [
    "# dump some data\n",
    "data[0:10]"
   ]
  },
  {
   "cell_type": "markdown",
   "metadata": {},
   "source": [
    "## 4. LRA and CPA with intermediate snapshots"
   ]
  },
  {
   "cell_type": "code",
   "execution_count": null,
   "metadata": {
    "collapsed": true
   },
   "outputs": [],
   "source": [
    "t0 = time.clock()\n",
    "\n",
    "# initialize the incremental averager\n",
    "CondAver = ConditionalAveragerAesSbox(256, traceLength)\n",
    "\n",
    "# allocate arrays for storing key rank evolution\n",
    "numSteps = int(np.ceil(N / np.double(evolutionStep)))\n",
    "keyRankEvolutionCPA = np.zeros(numSteps)\n",
    "keyRankEvolutionLRA = np.zeros(numSteps)\n",
    "\n",
    "# the incremental loop\n",
    "tracesToSkip = 20 # warm-up to avoid numerical problems for small evolution step\n",
    "for i in range (0, tracesToSkip - 1):\n",
    "    CondAver.addTrace(data[i], traces[i])\n",
    "for i in range(tracesToSkip - 1, N):\n",
    "    CondAver.addTrace(data[i], traces[i])\n",
    "\n",
    "    if (((i + 1) % evolutionStep == 0) or ((i + 1) == N)):\n",
    "\n",
    "        (avdata, avtraces) = CondAver.getSnapshot()\n",
    "        \n",
    "        CorrTraces = cpaAES(avdata, avtraces, intermediateFunction, leakageFunction)\n",
    "        R2, coefs = lraAES(avdata, avtraces, intermediateFunction, basisFunctionsModel)\n",
    "\n",
    "        print \"---\\nResults after %d traces\" % (i + 1)\n",
    "        print \"CPA\"\n",
    "        CorrPeaks = np.max(np.abs(CorrTraces), axis=1) # global maximization, absolute value!\n",
    "        CpaWinningCandidate = np.argmax(CorrPeaks)\n",
    "        CpaWinningCandidatePeak = np.max(CorrPeaks)\n",
    "        CpaCorrectCandidateRank = np.count_nonzero(CorrPeaks >= CorrPeaks[knownKey[SboxNum]])\n",
    "        CpaCorrectCandidatePeak = CorrPeaks[knownKey[SboxNum]]\n",
    "        print \"Winning candidate: 0x%02x, peak magnitude %f\" % (CpaWinningCandidate, CpaWinningCandidatePeak)\n",
    "        print \"Correct candidate: 0x%02x, peak magnitude %f, rank %d\" % (knownKey[SboxNum], CpaCorrectCandidatePeak, CpaCorrectCandidateRank)\n",
    "\n",
    "        print \"LRA\"\n",
    "        R2Peaks = np.max(R2, axis=1) # global maximization\n",
    "        LraWinningCandidate = np.argmax(R2Peaks)\n",
    "        LraWinningCandidatePeak = np.max(R2Peaks)\n",
    "        LraCorrectCandidateRank = np.count_nonzero(R2Peaks >= R2Peaks[knownKey[SboxNum]])\n",
    "        LraCorrectCandidatePeak = R2Peaks[knownKey[SboxNum]]\n",
    "        print \"Winning candidate: 0x%02x, peak magnitude %f\" % (LraWinningCandidate, LraWinningCandidatePeak)\n",
    "        print \"Correct candidate: 0x%02x, peak magnitude %f, rank %d\" % (knownKey[SboxNum], LraCorrectCandidatePeak, LraCorrectCandidateRank)\n",
    "\n",
    "        stepCount = int(np.floor(i / np.double(evolutionStep)))\n",
    "        keyRankEvolutionCPA[stepCount] = CpaCorrectCandidateRank\n",
    "        keyRankEvolutionLRA[stepCount] = LraCorrectCandidateRank\n",
    "\n",
    "t1 = time.clock()\n",
    "timeAll = t1 - t0\n",
    "\n",
    "print \"---\\nCumulative timing\"\n",
    "print \"%0.2f s\" % timeAll"
   ]
  },
  {
   "cell_type": "code",
   "execution_count": null,
   "metadata": {
    "collapsed": true
   },
   "outputs": [],
   "source": [
    "# save the rank evolution for later processing\n",
    "np.savez(\"results/AES-keyRankEvolutionSbox%02d\" % SboxNum, kreCPA=keyRankEvolutionCPA, kreLRA=keyRankEvolutionLRA, step=evolutionStep)"
   ]
  },
  {
   "cell_type": "markdown",
   "metadata": {},
   "source": [
    "## 5. Visualize results"
   ]
  },
  {
   "cell_type": "code",
   "execution_count": null,
   "metadata": {
    "collapsed": true
   },
   "outputs": [],
   "source": [
    "fig = plt.figure()\n",
    "\n",
    "# allocate grid\n",
    "axCPA = plt.subplot2grid((3, 2), (0, 0))\n",
    "axLRA = plt.subplot2grid((3, 2), (1, 0))\n",
    "axLRAcoefs = plt.subplot2grid((3, 2), (2, 0))\n",
    "axRankEvolution = plt.subplot2grid((2, 2), (0, 1), rowspan = 3)\n",
    "\n",
    "# compute trace nubmers for x axis (TODO: move into block 3)\n",
    "traceNumbers = np.arange(evolutionStep, N + 1, evolutionStep)\n",
    "\n",
    "# CPA\n",
    "axCPA.plot(CorrTraces.T, color = 'grey')\n",
    "if CpaWinningCandidate != knownKey[SboxNum]:\n",
    "    axCPA.plot(CorrTraces[CpaWinningCandidate, :], 'blue')\n",
    "axCPA.plot(CorrTraces[knownKey[SboxNum], :], 'r')\n",
    "axRankEvolution.plot(traceNumbers, keyRankEvolutionCPA, color = 'green')\n",
    "axCPA.set_xlim([0, traceLength])\n",
    "\n",
    "# LRA\n",
    "axLRA.plot(R2.T, color = 'grey')\n",
    "if LraWinningCandidate != knownKey[SboxNum]:\n",
    "    axLRA.plot(R2[LraWinningCandidate, :], 'blue')\n",
    "axLRA.plot(R2[knownKey[SboxNum], :], 'r')\n",
    "axRankEvolution.plot(traceNumbers, keyRankEvolutionLRA, color = 'magenta')\n",
    "axLRA.set_xlim([0, traceLength])\n",
    "\n",
    "# LRA coefs\n",
    "coefsKnownKey = np.array(coefs[knownKey[SboxNum]])\n",
    "axLRAcoefs.pcolormesh(coefsKnownKey[:,:-1].T, cmap=\"jet\")\n",
    "axLRAcoefs.set_xlim([0, traceLength])\n",
    "\n",
    "# labels\n",
    "fig.suptitle(\"CPA and LRA on %d traces\" % N)\n",
    "axCPA.set_ylabel('Correlation')\n",
    "axLRA.set_ylabel('R2')\n",
    "axLRAcoefs.set_ylabel('Basis function (bit)')\n",
    "axLRAcoefs.set_xlabel('Time sample')\n",
    "axRankEvolution.set_ylabel('Correct key candidate rank')\n",
    "axRankEvolution.set_xlabel('Number of traces')\n",
    "axRankEvolution.set_title('Correct key rank evolution (global maximisation)')\n",
    "\n",
    "# Limits and tick labels for key rand evolution plot\n",
    "axRankEvolution.set_xlim([traceNumbers[int(np.ceil(tracesToSkip / np.double(evolutionStep))) - 1], N])\n",
    "axRankEvolution.set_ylim([0, 256])\n",
    "axRankEvolution.grid(b=True, which='both', color='0.65',linestyle='-')\n",
    "#axRankEvolution.ticklabel_format(style='sci', axis='x', scilimits=(0,0), useOffset=True)\n",
    "\n",
    "# Legend for rank evolution plot\n",
    "axRankEvolution.legend(['CPA', 'LRA'], loc='upper right')\n",
    "\n",
    "plt.show()"
   ]
  }
 ],
 "metadata": {
  "kernelspec": {
   "display_name": "Python 2",
   "language": "python",
   "name": "python2"
  },
  "language_info": {
   "codemirror_mode": {
    "name": "ipython",
    "version": 2
   },
   "file_extension": ".py",
   "mimetype": "text/x-python",
   "name": "python",
   "nbconvert_exporter": "python",
   "pygments_lexer": "ipython2",
   "version": "2.7.13"
  }
 },
 "nbformat": 4,
 "nbformat_minor": 1
}
